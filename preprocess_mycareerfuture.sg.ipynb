{
 "cells": [
  {
   "cell_type": "code",
   "execution_count": 1,
   "id": "c5452e94-5b4f-4abb-b788-250bf6eea6aa",
   "metadata": {},
   "outputs": [],
   "source": [
    "import pickle \n",
    "import json \n",
    "import random \n",
    "import pandas as pd \n",
    "def read_pickle(path):\n",
    "\twith open(path,'rb') as f:\n",
    "\t\treturn pickle.load(f) "
   ]
  },
  {
   "cell_type": "code",
   "execution_count": 2,
   "id": "74c453a2-6130-434a-a34d-8f253a9f2eb6",
   "metadata": {},
   "outputs": [],
   "source": [
    "with open('/home/nicky/project/JDAN-acl-2024-github/data/mycareersfuture.json', 'r') as json_file:\n",
    "    # Load JSON data\n",
    "    data = json.load(json_file)"
   ]
  },
  {
   "cell_type": "code",
   "execution_count": 3,
   "id": "326b8d50-9bac-4efb-8526-313dd0b510b5",
   "metadata": {},
   "outputs": [
    {
     "data": {
      "text/plain": [
       "{'company_name': 'NATURE LANDSCAPES PTE LTD',\n",
       " 'job_title': 'Supply Chain Manager',\n",
       " 'employment_type': 'Permanent, Full Time',\n",
       " 'seniority': 'Manager',\n",
       " 'job_category': ['Building and Construction, Logistics ', ' Supply Chain'],\n",
       " 'location': '15 JOAN ROAD 298899',\n",
       " 'salary': '$3,000to$5,000Monthly',\n",
       " 'min_experience': '5 years  exp',\n",
       " 'skills_required': ['Continuous Improvement',\n",
       "  'Cross-functional Team Leadership',\n",
       "  'Forecasting',\n",
       "  'Inventory Management',\n",
       "  'Lean Manufacturing',\n",
       "  'Logistics',\n",
       "  'Management',\n",
       "  'Manufacturing',\n",
       "  'Materials Management',\n",
       "  'Operations Management',\n",
       "  'Process Improvement',\n",
       "  'Procurement',\n",
       "  'Project Planning',\n",
       "  'Purchasing',\n",
       "  'SAP',\n",
       "  'Strategic Sourcing',\n",
       "  'Supply Chain',\n",
       "  'Supply Chain Management',\n",
       "  'Supply Chain Optimization',\n",
       "  'Supply Management'],\n",
       " 'requirements_and_role': 'responsibilities partner operations team translate project requirements deliverables direct coordinate activities personnel engaged buying selling distributing materials equipment machinery supplies devise employ effective sourcing methods identify suitable suppliers service providers secure advantageous terms long term relationships manage kpis operations reviews reporting coordinate participate periodic audits process inventory compliance safety oversee usage distribution delivery plants materials maintenance schedules equipment vehicles track key functional metrics reduce expenses improve effectiveness perform risk management regarding supply contracts agreements',\n",
       " 'job_requirements': 'requirementswork experience preferably 5 years experience building landscape construction senior executive level qualifications diploma bachelor degree business related fields',\n",
       " 'company_info': 'NATURE LANDSCAPES PTE LTD\\n',\n",
       " 'posting_date': '09 May 2019',\n",
       " 'expiry_date': '08 Jun 2019',\n",
       " 'no_of_applications': '12',\n",
       " 'job_id': 'JOB-2019-0098322'}"
      ]
     },
     "execution_count": 3,
     "metadata": {},
     "output_type": "execute_result"
    }
   ],
   "source": [
    "data['jobs'][10]"
   ]
  },
  {
   "cell_type": "markdown",
   "id": "f7f34abb-e36b-4fad-ab86-6136970da680",
   "metadata": {},
   "source": [
    "## We choose the following field to represent each information. \n",
    "### 1. Job Title (JT) : 'job_title'\n",
    "### 2. Job Description (JD) : 'job_requirement' and 'requirements_and_role'\n",
    "### 3. Skills : 'skills_required'"
   ]
  },
  {
   "cell_type": "code",
   "execution_count": 4,
   "id": "96d1cb36-cc0d-4400-9307-07944d38c39e",
   "metadata": {},
   "outputs": [],
   "source": [
    "temps = []\n",
    "for job in data['jobs']:\n",
    "    jt = job['job_title']\n",
    "    jr = job['job_requirements']\n",
    "    rr = job['requirements_and_role']\n",
    "    skills = job['skills_required']\n",
    "    temps.append([jt,jr,rr,skills])"
   ]
  },
  {
   "cell_type": "code",
   "execution_count": null,
   "id": "71f62b74-998a-4615-83b5-613b5c36f1f2",
   "metadata": {},
   "outputs": [],
   "source": []
  }
 ],
 "metadata": {
  "kernelspec": {
   "display_name": "Python 3 (ipykernel)",
   "language": "python",
   "name": "python3"
  },
  "language_info": {
   "codemirror_mode": {
    "name": "ipython",
    "version": 3
   },
   "file_extension": ".py",
   "mimetype": "text/x-python",
   "name": "python",
   "nbconvert_exporter": "python",
   "pygments_lexer": "ipython3",
   "version": "3.11.5"
  }
 },
 "nbformat": 4,
 "nbformat_minor": 5
}
