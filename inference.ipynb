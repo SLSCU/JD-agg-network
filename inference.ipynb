{
 "cells": [
  {
   "cell_type": "code",
   "execution_count": 1,
   "id": "0da8f421-e185-44ce-a2f6-8472f9969600",
   "metadata": {},
   "outputs": [],
   "source": [
    "import pandas as pd\n",
    "from tqdm import tqdm \n",
    "import pytrec_eval\n",
    "from collections import defaultdict\n",
    "import pickle\n",
    "import torch \n",
    "import torch.nn as nn\n",
    "import os \n",
    "import numpy as np \n",
    "from transformers import AutoTokenizer,AutoModelForSequenceClassification, TrainingArguments, Trainer, DataCollatorWithPadding,AutoModel\n",
    "from sentence_transformers import models, losses, LoggingHandler, SentenceTransformer, util, InputExample\n",
    "os.environ[\"CUDA_VISIBLE_DEVICES\"] = '1'\n",
    "\n",
    "def read_pickle(path):\n",
    "\twith open(path,'rb') as f:\n",
    "\t\treturn pickle.load(f) "
   ]
  },
  {
   "cell_type": "markdown",
   "id": "7d35a411-755b-495a-896a-bbb8f79ef701",
   "metadata": {},
   "source": [
    "## Load evaluation dataset (ESCO job normalization)"
   ]
  },
  {
   "cell_type": "code",
   "execution_count": 2,
   "id": "c20ea118-c29a-4b8d-9c4b-0cb6170a94e4",
   "metadata": {},
   "outputs": [],
   "source": [
    "val_rqel = read_pickle('/mnt/data/nicky/JTG/jobbert-val-dict.pkl')\n",
    "test_rqel = read_pickle('/mnt/data/nicky/JTG/jobbert-test-dict.pkl')\n",
    "\n",
    "val_jts = read_pickle('/mnt/data/nicky/JTG/jobbert-val-jt.pkl')\n",
    "test_jts = read_pickle('/mnt/data/nicky/JTG/jobbert-test-jt.pkl')\n",
    "\n",
    "val_labels = read_pickle('/mnt/data/nicky/JTG/jobbert-val-labels.pkl')\n",
    "test_labels = read_pickle('/mnt/data/nicky/JTG/jobbert-test-labels.pkl')"
   ]
  },
  {
   "cell_type": "markdown",
   "id": "c762363f-3a10-4118-bf85-62f00cf6df7d",
   "metadata": {
    "scrolled": true
   },
   "source": [
    "## Load pytrec to calculate Recall@k and MRR"
   ]
  },
  {
   "cell_type": "code",
   "execution_count": 3,
   "id": "db3343ea-07e2-4a8f-bde5-3d77d27cb5a8",
   "metadata": {},
   "outputs": [],
   "source": [
    "val_evaluator = pytrec_eval.RelevanceEvaluator(\n",
    "    val_rqel, {'recip_rank','recall'})\n",
    "test_evaluator = pytrec_eval.RelevanceEvaluator(\n",
    "    test_rqel, {'recip_rank','recall'})"
   ]
  },
  {
   "cell_type": "markdown",
   "id": "b2ac8d65-5069-48d4-8779-b857be0391bb",
   "metadata": {},
   "source": [
    "## Evaluation Function"
   ]
  },
  {
   "cell_type": "code",
   "execution_count": 4,
   "id": "90eaa19b-1261-4e01-b633-bafa8d735f7a",
   "metadata": {},
   "outputs": [],
   "source": [
    "def eval_jobnorm(jts,labels,evaluator,model):\n",
    "    encoded_query = model.encode(jts,normalize_embeddings = True,batch_size = 16,show_progress_bar = True)\n",
    "    encoded_corpus = model.encode(labels,normalize_embeddings = True,batch_size = 16,show_progress_bar = True)\n",
    "    sims_matrix = encoded_query @ encoded_corpus.T\n",
    "    predict_q = dict()\n",
    "    for i,q in enumerate(jts):\n",
    "        sim = sims_matrix[i,:].astype(float)\n",
    "        temp_q = dict()\n",
    "        for j,p in enumerate(labels):\n",
    "            temp_q[p] = sim[j]\n",
    "        predict_q[q] = temp_q\n",
    "    results = evaluator.evaluate(predict_q).items()\n",
    "    \n",
    "    mrr = np.mean([v['recip_rank'] for k,v in results])\n",
    "    r_5 = np.mean([v['recall_5'] for k,v in results])\n",
    "    r_10 = np.mean([v['recall_10'] for k,v in results])\n",
    "\n",
    "\n",
    "    print('micro')\n",
    "    print(f'R@5 = {r_5*100:.2f}, R@10 = {r_10*100:.2f}, mrr = {mrr*100:.2f}')"
   ]
  },
  {
   "cell_type": "markdown",
   "id": "25bc4968-8cba-4419-a625-9ac142371467",
   "metadata": {},
   "source": [
    "## BERT (w/o finetuning)"
   ]
  },
  {
   "cell_type": "code",
   "execution_count": 5,
   "id": "da697760-c7f4-474b-91c5-13f6ecaeb5f3",
   "metadata": {},
   "outputs": [
    {
     "name": "stderr",
     "output_type": "stream",
     "text": [
      "No sentence-transformers model found with name /mnt/data/nicky/temp/.cache/bert-base-uncased. Creating a new one with MEAN pooling.\n"
     ]
    },
    {
     "name": "stdout",
     "output_type": "stream",
     "text": [
      "None\n"
     ]
    }
   ],
   "source": [
    "model_name = 'bert-base-uncased' \n",
    "model = SentenceTransformer(model_name,cache_folder = '/mnt/data/nicky/temp/.cache')"
   ]
  },
  {
   "cell_type": "code",
   "execution_count": 6,
   "id": "c1e73e11-9ca4-4562-8b3c-81c6ee6c3fe3",
   "metadata": {},
   "outputs": [
    {
     "data": {
      "application/vnd.jupyter.widget-view+json": {
       "model_id": "8bc2b513d70d4c14abdb4c19fb155aad",
       "version_major": 2,
       "version_minor": 0
      },
      "text/plain": [
       "Batches:   0%|          | 0/967 [00:00<?, ?it/s]"
      ]
     },
     "metadata": {},
     "output_type": "display_data"
    },
    {
     "data": {
      "application/vnd.jupyter.widget-view+json": {
       "model_id": "12d8b620ff8441e7a008816530cae657",
       "version_major": 2,
       "version_minor": 0
      },
      "text/plain": [
       "Batches:   0%|          | 0/86 [00:00<?, ?it/s]"
      ]
     },
     "metadata": {},
     "output_type": "display_data"
    },
    {
     "name": "stdout",
     "output_type": "stream",
     "text": [
      "micro\n",
      "R@5 = 26.23, R@10 = 32.10, mrr = 20.57\n"
     ]
    }
   ],
   "source": [
    "eval_jobnorm(test_jts,test_labels,test_evaluator,model)"
   ]
  },
  {
   "cell_type": "markdown",
   "id": "f84d94ba-9d99-4ac8-8b6b-d04bd3d10631",
   "metadata": {},
   "source": [
    "## JDAN (Ours)"
   ]
  },
  {
   "cell_type": "code",
   "execution_count": 7,
   "id": "f02af574-5903-4f6c-8b3a-49bd717787db",
   "metadata": {},
   "outputs": [
    {
     "name": "stderr",
     "output_type": "stream",
     "text": [
      "No sentence-transformers model found with name /mnt/data/nicky/temp/.cache/napatnicky_JDAN-mycareersfuture.sg. Creating a new one with MEAN pooling.\n"
     ]
    },
    {
     "name": "stdout",
     "output_type": "stream",
     "text": [
      "None\n"
     ]
    }
   ],
   "source": [
    "model_name = 'napatnicky/JDAN-mycareersfuture.sg' \n",
    "# default (mean pooling)\n",
    "model = SentenceTransformer(model_name,cache_folder = '/mnt/data/nicky/temp/.cache')"
   ]
  },
  {
   "cell_type": "code",
   "execution_count": 8,
   "id": "c7ebcff1-9bc7-4e00-bf2e-29fc9318ef52",
   "metadata": {},
   "outputs": [
    {
     "data": {
      "application/vnd.jupyter.widget-view+json": {
       "model_id": "86f00866d26f4781955c6c135d6d6dcb",
       "version_major": 2,
       "version_minor": 0
      },
      "text/plain": [
       "Batches:   0%|          | 0/967 [00:00<?, ?it/s]"
      ]
     },
     "metadata": {},
     "output_type": "display_data"
    },
    {
     "data": {
      "application/vnd.jupyter.widget-view+json": {
       "model_id": "c79d922c593b416bbb39751272f31592",
       "version_major": 2,
       "version_minor": 0
      },
      "text/plain": [
       "Batches:   0%|          | 0/86 [00:00<?, ?it/s]"
      ]
     },
     "metadata": {},
     "output_type": "display_data"
    },
    {
     "name": "stdout",
     "output_type": "stream",
     "text": [
      "micro\n",
      "R@5 = 48.92, R@10 = 57.21, mrr = 39.12\n"
     ]
    }
   ],
   "source": [
    "eval_jobnorm(test_jts,test_labels,test_evaluator,model)"
   ]
  },
  {
   "cell_type": "code",
   "execution_count": null,
   "id": "bc7b3740-d4ae-4514-830d-7f97883cdcc0",
   "metadata": {},
   "outputs": [],
   "source": []
  }
 ],
 "metadata": {
  "kernelspec": {
   "display_name": "Python 3 (ipykernel)",
   "language": "python",
   "name": "python3"
  },
  "language_info": {
   "codemirror_mode": {
    "name": "ipython",
    "version": 3
   },
   "file_extension": ".py",
   "mimetype": "text/x-python",
   "name": "python",
   "nbconvert_exporter": "python",
   "pygments_lexer": "ipython3",
   "version": "3.11.5"
  }
 },
 "nbformat": 4,
 "nbformat_minor": 5
}
