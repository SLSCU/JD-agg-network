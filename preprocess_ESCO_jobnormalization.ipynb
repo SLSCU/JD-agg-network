{
 "cells": [
  {
   "cell_type": "code",
   "execution_count": 1,
   "id": "730c6c87-c56d-4f89-979b-cc8ec452fd53",
   "metadata": {},
   "outputs": [],
   "source": [
    "import requests\n",
    "import pandas as pd\n",
    "import pickle \n",
    "import re\n",
    "from tqdm import tqdm "
   ]
  },
  {
   "cell_type": "code",
   "execution_count": 2,
   "id": "83bdd961-8601-43c3-9101-7c751997462f",
   "metadata": {},
   "outputs": [],
   "source": [
    "def read_pickle(path):\n",
    "\twith open(path,'rb') as f:\n",
    "\t\treturn pickle.load(f) \n",
    "def get_title_esco(text):\n",
    "    title_pattern = re.compile(r'<title>(.*?)</title>', re.IGNORECASE | re.DOTALL)\n",
    "    match = title_pattern.search(text)\n",
    "    if match:\n",
    "        title_content = match.group(1).strip()\n",
    "        return title_content\n",
    "    else:\n",
    "        print(\"Title not found.\")"
   ]
  },
  {
   "cell_type": "markdown",
   "id": "466bb880-0fdd-403f-96f8-91bb3d5ef6e2",
   "metadata": {},
   "source": [
    "## Load data from JobBERT-evaluation-dataset"
   ]
  },
  {
   "cell_type": "code",
   "execution_count": 3,
   "id": "d04fd4aa-c5fd-499b-b9d5-9ffdf8709ae9",
   "metadata": {},
   "outputs": [],
   "source": [
    "val = pd.read_csv('/home/nicky/project/JDAN-acl-2024-github/data/titles.csv')\n",
    "test = pd.read_csv('/home/nicky/project/JDAN-acl-2024-github/data/titles.test.csv')"
   ]
  },
  {
   "cell_type": "code",
   "execution_count": 4,
   "id": "93015548-2e67-448c-91d0-4965d06c15fd",
   "metadata": {},
   "outputs": [
    {
     "data": {
      "text/html": [
       "<div>\n",
       "<style scoped>\n",
       "    .dataframe tbody tr th:only-of-type {\n",
       "        vertical-align: middle;\n",
       "    }\n",
       "\n",
       "    .dataframe tbody tr th {\n",
       "        vertical-align: top;\n",
       "    }\n",
       "\n",
       "    .dataframe thead th {\n",
       "        text-align: right;\n",
       "    }\n",
       "</style>\n",
       "<table border=\"1\" class=\"dataframe\">\n",
       "  <thead>\n",
       "    <tr style=\"text-align: right;\">\n",
       "      <th></th>\n",
       "      <th>Unnamed: 0</th>\n",
       "      <th>vacancyTitle</th>\n",
       "      <th>conceptUri</th>\n",
       "    </tr>\n",
       "  </thead>\n",
       "  <tbody>\n",
       "    <tr>\n",
       "      <th>0</th>\n",
       "      <td>0</td>\n",
       "      <td>Marketing</td>\n",
       "      <td>http://data.europa.eu/esco/occupation/47e81c7f...</td>\n",
       "    </tr>\n",
       "    <tr>\n",
       "      <th>1</th>\n",
       "      <td>1</td>\n",
       "      <td>Marketing Advisor</td>\n",
       "      <td>http://data.europa.eu/esco/occupation/47e81c7f...</td>\n",
       "    </tr>\n",
       "    <tr>\n",
       "      <th>2</th>\n",
       "      <td>2</td>\n",
       "      <td>Admin Marketing</td>\n",
       "      <td>http://data.europa.eu/esco/occupation/47e81c7f...</td>\n",
       "    </tr>\n",
       "  </tbody>\n",
       "</table>\n",
       "</div>"
      ],
      "text/plain": [
       "   Unnamed: 0       vacancyTitle  \\\n",
       "0           0          Marketing   \n",
       "1           1  Marketing Advisor   \n",
       "2           2    Admin Marketing   \n",
       "\n",
       "                                          conceptUri  \n",
       "0  http://data.europa.eu/esco/occupation/47e81c7f...  \n",
       "1  http://data.europa.eu/esco/occupation/47e81c7f...  \n",
       "2  http://data.europa.eu/esco/occupation/47e81c7f...  "
      ]
     },
     "execution_count": 4,
     "metadata": {},
     "output_type": "execute_result"
    }
   ],
   "source": [
    "test.head(3)"
   ]
  },
  {
   "cell_type": "markdown",
   "id": "d75f3eef-9d40-4b8f-a374-ad61fc32dc26",
   "metadata": {},
   "source": [
    "## Scraping the corresponding label of each job title from ESCO website "
   ]
  },
  {
   "cell_type": "code",
   "execution_count": null,
   "id": "962d729c-3b0e-433a-8311-2a91b144cd53",
   "metadata": {},
   "outputs": [],
   "source": [
    "val_labels = []\n",
    "for i in tqdm(range(len(val))):\n",
    "    try:\n",
    "        jobtitle = val.iloc[i]['vacancyTitle']\n",
    "        url = val.iloc[i]['conceptUri'].split('/')[-1]\n",
    "        esco_url = f'https://esco.ec.europa.eu/en/classification/occupation?uri=http%3A%2F%2Fdata.europa.eu%2Fesco%2Foccupation%2F{url}'\n",
    "        x = requests.get(esco_url)\n",
    "        label = get_title_esco(x.text).split('|')[0]\n",
    "        val_labels.append([jobtitle,label.strip()])\n",
    "    except:\n",
    "        print(i)\n",
    "\n",
    "test_labels = []\n",
    "for i in tqdm(range(len(test))):\n",
    "    try:\n",
    "        jobtitle = test.iloc[i]['vacancyTitle']\n",
    "        url = test.iloc[i]['conceptUri'].split('/')[-1]\n",
    "        esco_url = f'https://esco.ec.europa.eu/en/classification/occupation?uri=http%3A%2F%2Fdata.europa.eu%2Fesco%2Foccupation%2F{url}'\n",
    "        x = requests.get(esco_url)\n",
    "        label = get_title_esco(x.text).split('|')[0]\n",
    "        test_labels.append([jobtitle,label.strip()])\n",
    "    except:\n",
    "        print(i)\n"
   ]
  },
  {
   "cell_type": "markdown",
   "id": "ec2fab64-317a-4504-b2d7-c592b3c66dfa",
   "metadata": {},
   "source": [
    "## Convert the job title and its corresponding label to retrieval format (used in pytrec_eval library latter)"
   ]
  },
  {
   "cell_type": "code",
   "execution_count": null,
   "id": "c2dc0bf6-67f8-43cc-a6fc-20ddd2488b76",
   "metadata": {},
   "outputs": [],
   "source": [
    "val_labels = sorted(list(set([ label for _,label in val if label])))\n",
    "test_labels = sorted(list(set([ label for _,label in test if label])))\n",
    "\n",
    "val_rqel,val_jts = dict(),[]\n",
    "for jt,label in val:\n",
    "    temp_label = dict()\n",
    "    for j in val_labels:\n",
    "        if label == j:\n",
    "            temp_label[j] = 1\n",
    "        else:\n",
    "            temp_label[j] = 0\n",
    "    val_rqel[jt] = temp_label\n",
    "    val_jts.append(jt)\n",
    "    \n",
    "test_rqel,test_jts = dict(),[]\n",
    "for jt,label in test:\n",
    "    temp_label = dict()\n",
    "    for j in test_labels:\n",
    "        if label == j:\n",
    "            temp_label[j] = 1\n",
    "        else:\n",
    "            temp_label[j] = 0\n",
    "    test_rqel[jt] = temp_label\n",
    "    test_jts.append(jt)"
   ]
  },
  {
   "cell_type": "markdown",
   "id": "e1e17df7-0be8-4d08-8232-759e6cee37f8",
   "metadata": {},
   "source": [
    "## Save file"
   ]
  },
  {
   "cell_type": "code",
   "execution_count": null,
   "id": "65d88551-de73-4487-8a47-8ae1f09e455d",
   "metadata": {},
   "outputs": [],
   "source": [
    "with open('data/jobbert-val.pkl', 'wb') as f:\n",
    "    pickle.dump(val_labels, f)\n",
    "with open('data/jobbert-test.pkl', 'wb') as f:\n",
    "    pickle.dump(test_labels, f)\n",
    "    \n",
    "with open('data/jobbert-val-dict.pkl', 'wb') as f:\n",
    "    pickle.dump(val_rqel, f)\n",
    "with open('data/jobbert-test-dict.pkl', 'wb') as f:\n",
    "    pickle.dump(test_rqel, f)\n",
    "    \n",
    "with open('data/jobbert-val-jt.pkl', 'wb') as f:\n",
    "    pickle.dump(val_jts, f)\n",
    "with open('data/jobbert-test-jt.pkl', 'wb') as f:\n",
    "    pickle.dump(test_jts, f)\n",
    "    \n",
    "with open('data/jobbert-val-labels.pkl', 'wb') as f:\n",
    "    pickle.dump(val_labels, f)\n",
    "with open('data/jobbert-test-labels.pkl', 'wb') as f:\n",
    "    pickle.dump(test_labels, f)"
   ]
  }
 ],
 "metadata": {
  "kernelspec": {
   "display_name": "Python 3 (ipykernel)",
   "language": "python",
   "name": "python3"
  },
  "language_info": {
   "codemirror_mode": {
    "name": "ipython",
    "version": 3
   },
   "file_extension": ".py",
   "mimetype": "text/x-python",
   "name": "python",
   "nbconvert_exporter": "python",
   "pygments_lexer": "ipython3",
   "version": "3.11.5"
  }
 },
 "nbformat": 4,
 "nbformat_minor": 5
}
